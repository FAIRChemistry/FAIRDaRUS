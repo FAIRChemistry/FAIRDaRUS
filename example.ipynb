{
 "cells": [
  {
   "cell_type": "code",
   "execution_count": 1,
   "metadata": {},
   "outputs": [],
   "source": [
    "# Activate autoreload to keep on track with changing modules\n",
    "%reload_ext autoreload\n",
    "%autoreload 2\n",
    "from FAIRDaRUS import DaRUS_upload"
   ]
  },
  {
   "cell_type": "code",
   "execution_count": null,
   "metadata": {},
   "outputs": [
    {
     "data": {
      "application/vnd.jupyter.widget-view+json": {
       "model_id": "d499509b07994ba3a9ed0a654ed8e608",
       "version_major": 2,
       "version_minor": 0
      },
      "text/plain": [
       "VBox(children=(Dropdown(description='Choose whether you want to create a new data record or edit an existing o…"
      ]
     },
     "metadata": {},
     "output_type": "display_data"
    },
    {
     "name": "stdout",
     "output_type": "stream",
     "text": [
      "\u001b[1mFetching dataset \u001b[0m\u001b[1;32m'doi:10.18419/darus-4076'\u001b[0m\u001b[1m from \u001b[0m\n",
      "\u001b[1;32m'https://darus.uni-stuttgart.de/'\u001b[0m\n",
      "\n",
      "╭──────────────────────────── \u001b[1mDataset Information\u001b[0m ─────────────────────────────╮\n",
      "│ Title: \u001b[1mFAIRFlow: A Jupyter notebook-based platform for on-line analysis in \u001b[0m  │\n",
      "│ \u001b[1mflow chemistry\u001b[0m                                                               │\n",
      "│ Version: latest                                                              │\n",
      "│ Files: 1                                                                     │\n",
      "╰──────────────────────────────────────────────────────────────────────────────╯\n",
      "\u001b[2K5l  datasets/poresize_omc.json/poresize_omc.json \u001b[90m━━━━━━━━━━━━━━━━━━━━\u001b[0m \u001b[35m  0%\u001b[0m \u001b[36m-:--:--\u001b[0m\n",
      "\u001b[1mDownloading files\u001b[0m\n",
      "\n",
      "\u001b[2K  datasets/poresize_omc.json/poresize_omc.json \u001b[90m━━━━━━━━━━━━━━━━━━━━\u001b[0m \u001b[35m100%\u001b[0m \u001b[36m0:00:00\u001b[0mm \u001b[36m0:00:01\u001b[0m\n",
      "\u001b[?25h╰── \u001b[1m✅ Done \u001b[0m\n",
      "\n"
     ]
    },
    {
     "name": "stdout",
     "output_type": "stream",
     "text": [
      "\n",
      "\u001b[3;37m📝 Preparing upload\u001b[0m\n",
      "\n",
      "\u001b[1;3;37m🔎 Checking dataset files\u001b[0m\u001b[3m                 \u001b[0m\n",
      "┏━━━━━━━━━━━━━━━━━━━┳━━━━━━━━━━━┳━━━━━━━━┓\n",
      "┃\u001b[1m \u001b[0m\u001b[1mFile             \u001b[0m\u001b[1m \u001b[0m┃\u001b[1m \u001b[0m\u001b[1mStatus   \u001b[0m\u001b[1m \u001b[0m┃\u001b[1m \u001b[0m\u001b[1mAction\u001b[0m\u001b[1m \u001b[0m┃\n",
      "┡━━━━━━━━━━━━━━━━━━━╇━━━━━━━━━━━╇━━━━━━━━┩\n",
      "│\u001b[36m \u001b[0m\u001b[36mporesize_omc.json\u001b[0m\u001b[36m \u001b[0m│ \u001b[90mSame hash\u001b[0m │ \u001b[90mSkip\u001b[0m   │\n",
      "└───────────────────┴───────────┴────────┘\n",
      "\n",
      "\u001b[1;3;37m❌ No files to upload\u001b[0m\n",
      "\n"
     ]
    }
   ],
   "source": [
    "uploader = DaRUS_upload()\n",
    "uploader.DaRUS( dataverse_list = [\"SFB1333\"] )\n",
    "\n",
    "uploader.api_token_text.value = \"4afecd82-c92d-4935-b786-2225af43531e\""
   ]
  },
  {
   "cell_type": "code",
   "execution_count": 5,
   "metadata": {},
   "outputs": [],
   "source": [
    "uploader.doi_text.value = \"doi:10.18419/darus-4076\""
   ]
  }
 ],
 "metadata": {
  "kernelspec": {
   "display_name": "fairflow",
   "language": "python",
   "name": "python3"
  },
  "language_info": {
   "codemirror_mode": {
    "name": "ipython",
    "version": 3
   },
   "file_extension": ".py",
   "mimetype": "text/x-python",
   "name": "python",
   "nbconvert_exporter": "python",
   "pygments_lexer": "ipython3",
   "version": "3.11.7"
  }
 },
 "nbformat": 4,
 "nbformat_minor": 2
}
