{
 "cells": [
  {
   "cell_type": "code",
   "execution_count": 2,
   "metadata": {},
   "outputs": [],
   "source": [
    "# Activate autoreload to keep on track with changing modules\n",
    "%reload_ext autoreload\n",
    "%autoreload 2\n",
    "from FAIRDaRUS import DaRUS_upload"
   ]
  },
  {
   "cell_type": "code",
   "execution_count": null,
   "metadata": {},
   "outputs": [
    {
     "data": {
      "application/vnd.jupyter.widget-view+json": {
       "model_id": "77e6bc47c10a417583c4806569e7ffaf",
       "version_major": 2,
       "version_minor": 0
      },
      "text/plain": [
       "VBox(children=(Dropdown(description='Choose whether you want to create a new data record or edit an existing o…"
      ]
     },
     "metadata": {},
     "output_type": "display_data"
    },
    {
     "name": "stdout",
     "output_type": "stream",
     "text": [
      "\u001b[1mFetching dataset \u001b[0m\u001b[1;32m'doi:10.18419/darus-4076'\u001b[0m\u001b[1m from \u001b[0m\n",
      "\u001b[1;32m'https://darus.uni-stuttgart.de/'\u001b[0m\n",
      "\n",
      "╭──────────────────────────── \u001b[1mDataset Information\u001b[0m ─────────────────────────────╮\n",
      "│ Title: \u001b[1mFAIRFlow: A Jupyter notebook-based platform for on-line analysis in \u001b[0m  │\n",
      "│ \u001b[1mflow chemistry\u001b[0m                                                               │\n",
      "│ Version: latest                                                              │\n",
      "│ Files: 1                                                                     │\n",
      "╰──────────────────────────────────────────────────────────────────────────────╯\n",
      "\u001b[2K5l  datasets/poresize_omc.json/poresize_omc.json \u001b[90m━━━━━━━━━━━━━━━━━━━━\u001b[0m \u001b[35m  0%\u001b[0m \u001b[36m-:--:--\u001b[0m\n",
      "\u001b[1mDownloading files\u001b[0m\n",
      "\n",
      "\u001b[2K  datasets/poresize_omc.json/poresize_omc.json \u001b[90m━━━━━━━━━━━━━━━━━━━━\u001b[0m \u001b[35m100%\u001b[0m \u001b[36m0:00:00\u001b[0mm \u001b[36m0:00:01\u001b[0m\n",
      "\u001b[?25h╰── \u001b[1m✅ Done \u001b[0m\n",
      "\n"
     ]
    },
    {
     "ename": "HTTPError",
     "evalue": "500 Server Error: Internal Server Error for url: https://darus.uni-stuttgart.de/api/datasets/:persistentId/versions/:draft?persistentId=doi:10.18419/darus-4076",
     "output_type": "error",
     "traceback": [
      "\u001b[0;31m---------------------------------------------------------------------------\u001b[0m",
      "\u001b[0;31mHTTPError\u001b[0m                                 Traceback (most recent call last)",
      "File \u001b[0;32m~/Documents/PhD/SFB1333/FAIRDaRUS/FAIRDaRUS/tools/darus_upload.py:173\u001b[0m, in \u001b[0;36mDaRUS_upload.update_to_DaRUS\u001b[0;34m(self, _)\u001b[0m\n\u001b[1;32m    170\u001b[0m \u001b[38;5;28mself\u001b[39m\u001b[38;5;241m.\u001b[39mcitation\u001b[38;5;241m.\u001b[39msave_input( dataset \u001b[38;5;241m=\u001b[39m \u001b[38;5;28mself\u001b[39m\u001b[38;5;241m.\u001b[39mDaRUS_data, depositor \u001b[38;5;241m=\u001b[39m \u001b[38;5;28mself\u001b[39m\u001b[38;5;241m.\u001b[39mdepositor_text\u001b[38;5;241m.\u001b[39mvalue  )\n\u001b[1;32m    172\u001b[0m \u001b[38;5;66;03m# Update dataset\u001b[39;00m\n\u001b[0;32m--> 173\u001b[0m \u001b[38;5;28;43mself\u001b[39;49m\u001b[38;5;241;43m.\u001b[39;49m\u001b[43mDaRUS_data\u001b[49m\u001b[38;5;241;43m.\u001b[39;49m\u001b[43mupdate\u001b[49m\u001b[43m(\u001b[49m\u001b[43m \u001b[49m\u001b[43m)\u001b[49m\n",
      "File \u001b[0;32m~/miniconda3/envs/fairflow/lib/python3.11/site-packages/easyDataverse/dataset.py:222\u001b[0m, in \u001b[0;36mDataset.update\u001b[0;34m(self)\u001b[0m\n\u001b[1;32m    209\u001b[0m \u001b[38;5;250m\u001b[39m\u001b[38;5;124;03m\"\"\"Updates a given dataset if a p_id has been given.\u001b[39;00m\n\u001b[1;32m    210\u001b[0m \n\u001b[1;32m    211\u001b[0m \u001b[38;5;124;03mUse this function in conjunction with 'from_dataverse_doi' to edit and update datasets.\u001b[39;00m\n\u001b[0;32m   (...)\u001b[0m\n\u001b[1;32m    219\u001b[0m \u001b[38;5;124;03m    contact_mail (str, optional): Mail of the contact. Defaults to None.\u001b[39;00m\n\u001b[1;32m    220\u001b[0m \u001b[38;5;124;03m\"\"\"\u001b[39;00m\n\u001b[1;32m    221\u001b[0m \u001b[38;5;28mself\u001b[39m\u001b[38;5;241m.\u001b[39m_validate_required_fields()\n\u001b[0;32m--> 222\u001b[0m \u001b[43mupdate_dataset\u001b[49m\u001b[43m(\u001b[49m\n\u001b[1;32m    223\u001b[0m \u001b[43m    \u001b[49m\u001b[43mjson_data\u001b[49m\u001b[38;5;241;43m=\u001b[39;49m\u001b[38;5;28;43mself\u001b[39;49m\u001b[38;5;241;43m.\u001b[39;49m\u001b[43mdataverse_dict\u001b[49m\u001b[43m(\u001b[49m\u001b[43m)\u001b[49m\u001b[43m[\u001b[49m\u001b[38;5;124;43m\"\u001b[39;49m\u001b[38;5;124;43mdatasetVersion\u001b[39;49m\u001b[38;5;124;43m\"\u001b[39;49m\u001b[43m]\u001b[49m\u001b[43m,\u001b[49m\n\u001b[1;32m    224\u001b[0m \u001b[43m    \u001b[49m\u001b[43mp_id\u001b[49m\u001b[38;5;241;43m=\u001b[39;49m\u001b[38;5;28;43mself\u001b[39;49m\u001b[38;5;241;43m.\u001b[39;49m\u001b[43mp_id\u001b[49m\u001b[43m,\u001b[49m\u001b[43m  \u001b[49m\u001b[38;5;66;43;03m# type: ignore\u001b[39;49;00m\n\u001b[1;32m    225\u001b[0m \u001b[43m    \u001b[49m\u001b[43mfiles\u001b[49m\u001b[38;5;241;43m=\u001b[39;49m\u001b[38;5;28;43mself\u001b[39;49m\u001b[38;5;241;43m.\u001b[39;49m\u001b[43mfiles\u001b[49m\u001b[43m,\u001b[49m\n\u001b[1;32m    226\u001b[0m \u001b[43m    \u001b[49m\u001b[43mDATAVERSE_URL\u001b[49m\u001b[38;5;241;43m=\u001b[39;49m\u001b[38;5;28;43mstr\u001b[39;49m\u001b[43m(\u001b[49m\u001b[38;5;28;43mself\u001b[39;49m\u001b[38;5;241;43m.\u001b[39;49m\u001b[43mDATAVERSE_URL\u001b[49m\u001b[43m)\u001b[49m\u001b[43m,\u001b[49m\u001b[43m  \u001b[49m\u001b[38;5;66;43;03m# type: ignore\u001b[39;49;00m\n\u001b[1;32m    227\u001b[0m \u001b[43m    \u001b[49m\u001b[43mAPI_TOKEN\u001b[49m\u001b[38;5;241;43m=\u001b[39;49m\u001b[38;5;28;43mstr\u001b[39;49m\u001b[43m(\u001b[49m\u001b[38;5;28;43mself\u001b[39;49m\u001b[38;5;241;43m.\u001b[39;49m\u001b[43mAPI_TOKEN\u001b[49m\u001b[43m)\u001b[49m\u001b[43m,\u001b[49m\n\u001b[1;32m    228\u001b[0m \u001b[43m\u001b[49m\u001b[43m)\u001b[49m\n",
      "File \u001b[0;32m~/miniconda3/envs/fairflow/lib/python3.11/site-packages/easyDataverse/uploader.py:132\u001b[0m, in \u001b[0;36mupdate_dataset\u001b[0;34m(p_id, json_data, files, DATAVERSE_URL, API_TOKEN)\u001b[0m\n\u001b[1;32m    121\u001b[0m url \u001b[38;5;241m=\u001b[39m urljoin(\n\u001b[1;32m    122\u001b[0m     DATAVERSE_URL,  \u001b[38;5;66;03m# type: ignore\u001b[39;00m\n\u001b[1;32m    123\u001b[0m     \u001b[38;5;124mf\u001b[39m\u001b[38;5;124m\"\u001b[39m\u001b[38;5;124m/api/datasets/:persistentId/versions/:draft?persistentId=\u001b[39m\u001b[38;5;132;01m{\u001b[39;00mp_id\u001b[38;5;132;01m}\u001b[39;00m\u001b[38;5;124m\"\u001b[39m,\n\u001b[1;32m    124\u001b[0m )\n\u001b[1;32m    126\u001b[0m response \u001b[38;5;241m=\u001b[39m requests\u001b[38;5;241m.\u001b[39mput(\n\u001b[1;32m    127\u001b[0m     url,\n\u001b[1;32m    128\u001b[0m     json\u001b[38;5;241m=\u001b[39mjson_data,\n\u001b[1;32m    129\u001b[0m     headers\u001b[38;5;241m=\u001b[39m{\u001b[38;5;124m\"\u001b[39m\u001b[38;5;124mX-Dataverse-key\u001b[39m\u001b[38;5;124m\"\u001b[39m: API_TOKEN},  \u001b[38;5;66;03m# type: ignore\u001b[39;00m\n\u001b[1;32m    130\u001b[0m )\n\u001b[0;32m--> 132\u001b[0m \u001b[43mresponse\u001b[49m\u001b[38;5;241;43m.\u001b[39;49m\u001b[43mraise_for_status\u001b[49m\u001b[43m(\u001b[49m\u001b[43m)\u001b[49m\n\u001b[1;32m    133\u001b[0m api, _ \u001b[38;5;241m=\u001b[39m _initialize_pydataverse(DATAVERSE_URL, API_TOKEN)\n\u001b[1;32m    135\u001b[0m _uploadFiles(\n\u001b[1;32m    136\u001b[0m     files\u001b[38;5;241m=\u001b[39mfiles,\n\u001b[1;32m    137\u001b[0m     p_id\u001b[38;5;241m=\u001b[39mp_id,\n\u001b[1;32m    138\u001b[0m     api\u001b[38;5;241m=\u001b[39mapi,  \u001b[38;5;66;03m# type: ignore\u001b[39;00m\n\u001b[1;32m    139\u001b[0m )\n",
      "File \u001b[0;32m~/miniconda3/envs/fairflow/lib/python3.11/site-packages/requests/models.py:1021\u001b[0m, in \u001b[0;36mResponse.raise_for_status\u001b[0;34m(self)\u001b[0m\n\u001b[1;32m   1016\u001b[0m     http_error_msg \u001b[38;5;241m=\u001b[39m (\n\u001b[1;32m   1017\u001b[0m         \u001b[38;5;124mf\u001b[39m\u001b[38;5;124m\"\u001b[39m\u001b[38;5;132;01m{\u001b[39;00m\u001b[38;5;28mself\u001b[39m\u001b[38;5;241m.\u001b[39mstatus_code\u001b[38;5;132;01m}\u001b[39;00m\u001b[38;5;124m Server Error: \u001b[39m\u001b[38;5;132;01m{\u001b[39;00mreason\u001b[38;5;132;01m}\u001b[39;00m\u001b[38;5;124m for url: \u001b[39m\u001b[38;5;132;01m{\u001b[39;00m\u001b[38;5;28mself\u001b[39m\u001b[38;5;241m.\u001b[39murl\u001b[38;5;132;01m}\u001b[39;00m\u001b[38;5;124m\"\u001b[39m\n\u001b[1;32m   1018\u001b[0m     )\n\u001b[1;32m   1020\u001b[0m \u001b[38;5;28;01mif\u001b[39;00m http_error_msg:\n\u001b[0;32m-> 1021\u001b[0m     \u001b[38;5;28;01mraise\u001b[39;00m HTTPError(http_error_msg, response\u001b[38;5;241m=\u001b[39m\u001b[38;5;28mself\u001b[39m)\n",
      "\u001b[0;31mHTTPError\u001b[0m: 500 Server Error: Internal Server Error for url: https://darus.uni-stuttgart.de/api/datasets/:persistentId/versions/:draft?persistentId=doi:10.18419/darus-4076"
     ]
    }
   ],
   "source": [
    "uploader = DaRUS_upload()\n",
    "uploader.DaRUS( dataverse_list = [\"SFB1333\"] )\n",
    "\n",
    "uploader.api_token_text.value = \"4afecd82-c92d-4935-b786-2225af43531e\""
   ]
  },
  {
   "cell_type": "code",
   "execution_count": 10,
   "metadata": {},
   "outputs": [],
   "source": [
    "uploader.doi_text.value = \"doi:10.18419/darus-4076\""
   ]
  }
 ],
 "metadata": {
  "kernelspec": {
   "display_name": "fairflow",
   "language": "python",
   "name": "python3"
  },
  "language_info": {
   "codemirror_mode": {
    "name": "ipython",
    "version": 3
   },
   "file_extension": ".py",
   "mimetype": "text/x-python",
   "name": "python",
   "nbconvert_exporter": "python",
   "pygments_lexer": "ipython3",
   "version": "3.11.7"
  }
 },
 "nbformat": 4,
 "nbformat_minor": 2
}
