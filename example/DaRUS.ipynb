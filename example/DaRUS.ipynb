{
 "cells": [
  {
   "cell_type": "code",
   "execution_count": 1,
   "metadata": {},
   "outputs": [],
   "source": [
    "from FAIRDaRUS.tools import DaRUS_upload"
   ]
  },
  {
   "cell_type": "markdown",
   "metadata": {},
   "source": [
    "## FAIRDaRUS\n",
    "\n",
    "This tool allows to up- and download datasets from DaRUS via an easy to use python widget.\n",
    "\n",
    "GitHub: https://github.com/FAIRChemistry/FAIRDaRUS\n",
    "\n",
    "This is the DaRUS uploading scheme:\n",
    "<p align=\"center\">\n",
    "    <img src=\"Publication_DaRUS.png\" alt=\"Publication\" width=\"600\"/>\n",
    "</p>"
   ]
  },
  {
   "cell_type": "code",
   "execution_count": 2,
   "metadata": {},
   "outputs": [
    {
     "data": {
      "application/vnd.jupyter.widget-view+json": {
       "model_id": "0aaf503ed5c64df298f530d763fa0371",
       "version_major": 2,
       "version_minor": 0
      },
      "text/plain": [
       "VBox(children=(Dropdown(description='Choose whether you want to create a new data record or edit an existing o…"
      ]
     },
     "metadata": {},
     "output_type": "display_data"
    },
    {
     "name": "stdout",
     "output_type": "stream",
     "text": [
      "Attribute project not valid for import (dv_up).\n",
      "Dataset with pid 'doi:10.18419/darus-4215' created.\n",
      "\n",
      "\n",
      "\u001b[32m╭─\u001b[0m\u001b[32m Dataset URL \u001b[0m\u001b[32m───────────────────────────────────────────────────────────────\u001b[0m\u001b[32m─╮\u001b[0m\n",
      "\u001b[32m│\u001b[0m                                                                              \u001b[32m│\u001b[0m\n",
      "\u001b[32m│\u001b[0m  🎉                                                                          \u001b[32m│\u001b[0m\n",
      "\u001b[32m│\u001b[0m  https://darus.uni-stuttgart.de/dataset.xhtml?persistentId=doi:10.18419/dar  \u001b[32m│\u001b[0m\n",
      "\u001b[32m│\u001b[0m  us-4215                                                                     \u001b[32m│\u001b[0m\n",
      "\u001b[32m│\u001b[0m                                                                              \u001b[32m│\u001b[0m\n",
      "\u001b[32m╰──────────────────────────────────────────────────────────────────────────────╯\u001b[0m\n"
     ]
    }
   ],
   "source": [
    "uploader = DaRUS_upload()\n",
    "uploader.DaRUS( dataverse_list = [\"sfb1333-hansen-gross\"] )\n",
    "\n",
    "uploader.depositor_text.value = \"Samir Darouich\"\n",
    "uploader.api_token_text.value = \"4afecd82-c92d-4935-b786-2225af43531e\""
   ]
  },
  {
   "cell_type": "code",
   "execution_count": 3,
   "metadata": {},
   "outputs": [],
   "source": [
    "uploader.citation.title.value = 'Test upload'\n",
    "uploader.citation.description.value  = 'The aim of this dataset is to demonstrate the upload via the FAIRDaRUS package'\n",
    "\n",
    "uploader.depositor_text.value = 'Samir Darouich'\n",
    "\n",
    "uploader.citation.authors.value      = 'Samir Darouich' \n",
    "uploader.citation.affiliations.value = 'University of Stuttgart'\n",
    "uploader.citation.contact_text.value = 'Samir Darouich, samir.darouich@itt.uni-stuttgart.de'"
   ]
  },
  {
   "cell_type": "code",
   "execution_count": 5,
   "metadata": {},
   "outputs": [],
   "source": [
    "uploader.doi_text.value = \"doi:10.18419/darus-4200\"\n",
    "uploader.file_directoy_text.value = \"download\""
   ]
  }
 ],
 "metadata": {
  "kernelspec": {
   "display_name": "fairflow",
   "language": "python",
   "name": "python3"
  },
  "language_info": {
   "codemirror_mode": {
    "name": "ipython",
    "version": 3
   },
   "file_extension": ".py",
   "mimetype": "text/x-python",
   "name": "python",
   "nbconvert_exporter": "python",
   "pygments_lexer": "ipython3",
   "version": "3.12.3"
  }
 },
 "nbformat": 4,
 "nbformat_minor": 2
}
