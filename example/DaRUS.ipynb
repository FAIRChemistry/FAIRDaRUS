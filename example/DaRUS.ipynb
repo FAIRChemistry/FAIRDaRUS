{
 "cells": [
  {
   "cell_type": "code",
   "execution_count": 1,
   "metadata": {},
   "outputs": [],
   "source": [
    "from FAIRDaRUS.tools import DaRUS_upload"
   ]
  },
  {
   "cell_type": "markdown",
   "metadata": {},
   "source": [
    "## FAIRDaRUS\n",
    "\n",
    "This tool allows to up- and download datasets from DaRUS via an easy to use python widget.\n",
    "\n",
    "This is the DaRUS uploading scheme:\n",
    "<p align=\"center\">\n",
    "    <img src=\"Publication_DaRUS.png\" alt=\"Publication\" width=\"600\"/>\n",
    "</p>"
   ]
  },
  {
   "cell_type": "code",
   "execution_count": 4,
   "metadata": {},
   "outputs": [
    {
     "data": {
      "application/vnd.jupyter.widget-view+json": {
       "model_id": "50fc5115ae704bf8ae549f33b68b5d50",
       "version_major": 2,
       "version_minor": 0
      },
      "text/plain": [
       "VBox(children=(Dropdown(description='Choose whether you want to create a new data record or edit an existing o…"
      ]
     },
     "metadata": {},
     "output_type": "display_data"
    },
    {
     "name": "stdout",
     "output_type": "stream",
     "text": [
      "\u001b[1mFetching dataset \u001b[0m\u001b[1;32m'https://doi:10.18419/darus-4200'\u001b[0m\u001b[1m from \u001b[0m\n",
      "\u001b[1;32m'https://darus.uni-stuttgart.de/'\u001b[0m\n",
      "\n"
     ]
    },
    {
     "ename": "AttributeError",
     "evalue": "data",
     "output_type": "error",
     "traceback": [
      "\u001b[0;31m---------------------------------------------------------------------------\u001b[0m",
      "\u001b[0;31mKeyError\u001b[0m                                  Traceback (most recent call last)",
      "File \u001b[0;32m~/miniconda3/envs/darus/lib/python3.12/site-packages/dotted_dict/__init__.py:34\u001b[0m, in \u001b[0;36mDottedDict.__getattr__\u001b[0;34m(self, attr)\u001b[0m\n\u001b[1;32m     33\u001b[0m \u001b[38;5;28;01mtry\u001b[39;00m:\n\u001b[0;32m---> 34\u001b[0m     \u001b[38;5;28;01mreturn\u001b[39;00m \u001b[38;5;28;43mself\u001b[39;49m\u001b[38;5;241;43m.\u001b[39;49m\u001b[38;5;18;43m__dict__\u001b[39;49m\u001b[43m[\u001b[49m\u001b[43mattr\u001b[49m\u001b[43m]\u001b[49m\n\u001b[1;32m     35\u001b[0m \u001b[38;5;66;03m# Do this to match python default behavior\u001b[39;00m\n",
      "\u001b[0;31mKeyError\u001b[0m: 'data'",
      "\nDuring handling of the above exception, another exception occurred:\n",
      "\u001b[0;31mAttributeError\u001b[0m                            Traceback (most recent call last)",
      "File \u001b[0;32m~/miniconda3/envs/darus/lib/python3.12/site-packages/FAIRDaRUS/tools/darus_upload.py:194\u001b[0m, in \u001b[0;36mDaRUS_upload.download_from_DaRUS\u001b[0;34m(self, _)\u001b[0m\n\u001b[1;32m    191\u001b[0m \u001b[38;5;28mself\u001b[39m\u001b[38;5;241m.\u001b[39mdoi_text\u001b[38;5;241m.\u001b[39mvalue \u001b[38;5;241m=\u001b[39m \u001b[38;5;28mself\u001b[39m\u001b[38;5;241m.\u001b[39mdoi_text\u001b[38;5;241m.\u001b[39mvalue\u001b[38;5;241m.\u001b[39mreplace(\u001b[38;5;124m\"\u001b[39m\u001b[38;5;124m.org/\u001b[39m\u001b[38;5;124m\"\u001b[39m,\u001b[38;5;124m\"\u001b[39m\u001b[38;5;124m:\u001b[39m\u001b[38;5;124m\"\u001b[39m)\n\u001b[1;32m    193\u001b[0m \u001b[38;5;66;03m# Load existing DaRUS dataset\u001b[39;00m\n\u001b[0;32m--> 194\u001b[0m \u001b[38;5;28mself\u001b[39m\u001b[38;5;241m.\u001b[39mDaRUS_data \u001b[38;5;241m=\u001b[39m \u001b[38;5;28;43mself\u001b[39;49m\u001b[38;5;241;43m.\u001b[39;49m\u001b[43mdataverse\u001b[49m\u001b[38;5;241;43m.\u001b[39;49m\u001b[43mload_dataset\u001b[49m\u001b[43m(\u001b[49m\n\u001b[1;32m    195\u001b[0m \u001b[43m    \u001b[49m\u001b[38;5;28;43mself\u001b[39;49m\u001b[38;5;241;43m.\u001b[39;49m\u001b[43mdoi_text\u001b[49m\u001b[38;5;241;43m.\u001b[39;49m\u001b[43mvalue\u001b[49m\u001b[43m,\u001b[49m\u001b[43m \u001b[49m\u001b[43mfiledir\u001b[49m\u001b[38;5;241;43m=\u001b[39;49m\u001b[38;5;28;43mself\u001b[39;49m\u001b[38;5;241;43m.\u001b[39;49m\u001b[43mfile_directoy_text\u001b[49m\u001b[38;5;241;43m.\u001b[39;49m\u001b[43mvalue\u001b[49m\n\u001b[1;32m    196\u001b[0m \u001b[43m\u001b[49m\u001b[43m)\u001b[49m\n\u001b[1;32m    198\u001b[0m \u001b[38;5;66;03m# Initialize\u001b[39;00m\n\u001b[1;32m    199\u001b[0m \u001b[38;5;28mself\u001b[39m\u001b[38;5;241m.\u001b[39mfile_directoy\u001b[38;5;241m.\u001b[39mvalue \u001b[38;5;241m=\u001b[39m [file\u001b[38;5;241m.\u001b[39mfilepath \u001b[38;5;28;01mfor\u001b[39;00m file \u001b[38;5;129;01min\u001b[39;00m \u001b[38;5;28mself\u001b[39m\u001b[38;5;241m.\u001b[39mDaRUS_data\u001b[38;5;241m.\u001b[39mfiles]\n",
      "File \u001b[0;32m~/miniconda3/envs/darus/lib/python3.12/site-packages/easyDataverse/dataverse.py:310\u001b[0m, in \u001b[0;36mDataverse.load_dataset\u001b[0;34m(self, pid, version, filedir, filenames, download_files, n_parallel_downloads)\u001b[0m\n\u001b[1;32m    308\u001b[0m \u001b[38;5;66;03m# Fetch and extract data\u001b[39;00m\n\u001b[1;32m    309\u001b[0m remote_ds \u001b[38;5;241m=\u001b[39m \u001b[38;5;28mself\u001b[39m\u001b[38;5;241m.\u001b[39m_fetch_dataset(pid, version)\n\u001b[0;32m--> 310\u001b[0m dataset\u001b[38;5;241m.\u001b[39mp_id \u001b[38;5;241m=\u001b[39m \u001b[43mremote_ds\u001b[49m\u001b[38;5;241;43m.\u001b[39;49m\u001b[43mdata\u001b[49m\u001b[38;5;241m.\u001b[39mlatestVersion\u001b[38;5;241m.\u001b[39mdatasetPersistentId  \u001b[38;5;66;03m# type: ignore\u001b[39;00m\n\u001b[1;32m    311\u001b[0m blocks \u001b[38;5;241m=\u001b[39m remote_ds\u001b[38;5;241m.\u001b[39mdata\u001b[38;5;241m.\u001b[39mlatestVersion\u001b[38;5;241m.\u001b[39mmetadataBlocks  \u001b[38;5;66;03m# type: ignore\u001b[39;00m\n\u001b[1;32m    312\u001b[0m files \u001b[38;5;241m=\u001b[39m remote_ds\u001b[38;5;241m.\u001b[39mdata\u001b[38;5;241m.\u001b[39mlatestVersion\u001b[38;5;241m.\u001b[39mfiles  \u001b[38;5;66;03m# type: ignore\u001b[39;00m\n",
      "File \u001b[0;32m~/miniconda3/envs/darus/lib/python3.12/site-packages/dotted_dict/__init__.py:37\u001b[0m, in \u001b[0;36mDottedDict.__getattr__\u001b[0;34m(self, attr)\u001b[0m\n\u001b[1;32m     35\u001b[0m \u001b[38;5;66;03m# Do this to match python default behavior\u001b[39;00m\n\u001b[1;32m     36\u001b[0m \u001b[38;5;28;01mexcept\u001b[39;00m \u001b[38;5;167;01mKeyError\u001b[39;00m:\n\u001b[0;32m---> 37\u001b[0m     \u001b[38;5;28;01mraise\u001b[39;00m \u001b[38;5;167;01mAttributeError\u001b[39;00m(attr)\n",
      "\u001b[0;31mAttributeError\u001b[0m: data"
     ]
    },
    {
     "name": "stdout",
     "output_type": "stream",
     "text": [
      "\u001b[1mFetching dataset \u001b[0m\u001b[1;32m'doi:10.18419/darus-4200'\u001b[0m\u001b[1m from \u001b[0m\n",
      "\u001b[1;32m'https://darus.uni-stuttgart.de/'\u001b[0m\n",
      "\n"
     ]
    },
    {
     "ename": "AttributeError",
     "evalue": "data",
     "output_type": "error",
     "traceback": [
      "\u001b[0;31m---------------------------------------------------------------------------\u001b[0m",
      "\u001b[0;31mKeyError\u001b[0m                                  Traceback (most recent call last)",
      "File \u001b[0;32m~/miniconda3/envs/darus/lib/python3.12/site-packages/dotted_dict/__init__.py:34\u001b[0m, in \u001b[0;36mDottedDict.__getattr__\u001b[0;34m(self, attr)\u001b[0m\n\u001b[1;32m     33\u001b[0m \u001b[38;5;28;01mtry\u001b[39;00m:\n\u001b[0;32m---> 34\u001b[0m     \u001b[38;5;28;01mreturn\u001b[39;00m \u001b[38;5;28;43mself\u001b[39;49m\u001b[38;5;241;43m.\u001b[39;49m\u001b[38;5;18;43m__dict__\u001b[39;49m\u001b[43m[\u001b[49m\u001b[43mattr\u001b[49m\u001b[43m]\u001b[49m\n\u001b[1;32m     35\u001b[0m \u001b[38;5;66;03m# Do this to match python default behavior\u001b[39;00m\n",
      "\u001b[0;31mKeyError\u001b[0m: 'data'",
      "\nDuring handling of the above exception, another exception occurred:\n",
      "\u001b[0;31mAttributeError\u001b[0m                            Traceback (most recent call last)",
      "File \u001b[0;32m~/miniconda3/envs/darus/lib/python3.12/site-packages/FAIRDaRUS/tools/darus_upload.py:194\u001b[0m, in \u001b[0;36mDaRUS_upload.download_from_DaRUS\u001b[0;34m(self, _)\u001b[0m\n\u001b[1;32m    191\u001b[0m \u001b[38;5;28mself\u001b[39m\u001b[38;5;241m.\u001b[39mdoi_text\u001b[38;5;241m.\u001b[39mvalue \u001b[38;5;241m=\u001b[39m \u001b[38;5;28mself\u001b[39m\u001b[38;5;241m.\u001b[39mdoi_text\u001b[38;5;241m.\u001b[39mvalue\u001b[38;5;241m.\u001b[39mreplace(\u001b[38;5;124m\"\u001b[39m\u001b[38;5;124m.org/\u001b[39m\u001b[38;5;124m\"\u001b[39m,\u001b[38;5;124m\"\u001b[39m\u001b[38;5;124m:\u001b[39m\u001b[38;5;124m\"\u001b[39m)\n\u001b[1;32m    193\u001b[0m \u001b[38;5;66;03m# Load existing DaRUS dataset\u001b[39;00m\n\u001b[0;32m--> 194\u001b[0m \u001b[38;5;28mself\u001b[39m\u001b[38;5;241m.\u001b[39mDaRUS_data \u001b[38;5;241m=\u001b[39m \u001b[38;5;28;43mself\u001b[39;49m\u001b[38;5;241;43m.\u001b[39;49m\u001b[43mdataverse\u001b[49m\u001b[38;5;241;43m.\u001b[39;49m\u001b[43mload_dataset\u001b[49m\u001b[43m(\u001b[49m\n\u001b[1;32m    195\u001b[0m \u001b[43m    \u001b[49m\u001b[38;5;28;43mself\u001b[39;49m\u001b[38;5;241;43m.\u001b[39;49m\u001b[43mdoi_text\u001b[49m\u001b[38;5;241;43m.\u001b[39;49m\u001b[43mvalue\u001b[49m\u001b[43m,\u001b[49m\u001b[43m \u001b[49m\u001b[43mfiledir\u001b[49m\u001b[38;5;241;43m=\u001b[39;49m\u001b[38;5;28;43mself\u001b[39;49m\u001b[38;5;241;43m.\u001b[39;49m\u001b[43mfile_directoy_text\u001b[49m\u001b[38;5;241;43m.\u001b[39;49m\u001b[43mvalue\u001b[49m\n\u001b[1;32m    196\u001b[0m \u001b[43m\u001b[49m\u001b[43m)\u001b[49m\n\u001b[1;32m    198\u001b[0m \u001b[38;5;66;03m# Initialize\u001b[39;00m\n\u001b[1;32m    199\u001b[0m \u001b[38;5;28mself\u001b[39m\u001b[38;5;241m.\u001b[39mfile_directoy\u001b[38;5;241m.\u001b[39mvalue \u001b[38;5;241m=\u001b[39m [file\u001b[38;5;241m.\u001b[39mfilepath \u001b[38;5;28;01mfor\u001b[39;00m file \u001b[38;5;129;01min\u001b[39;00m \u001b[38;5;28mself\u001b[39m\u001b[38;5;241m.\u001b[39mDaRUS_data\u001b[38;5;241m.\u001b[39mfiles]\n",
      "File \u001b[0;32m~/miniconda3/envs/darus/lib/python3.12/site-packages/easyDataverse/dataverse.py:310\u001b[0m, in \u001b[0;36mDataverse.load_dataset\u001b[0;34m(self, pid, version, filedir, filenames, download_files, n_parallel_downloads)\u001b[0m\n\u001b[1;32m    308\u001b[0m \u001b[38;5;66;03m# Fetch and extract data\u001b[39;00m\n\u001b[1;32m    309\u001b[0m remote_ds \u001b[38;5;241m=\u001b[39m \u001b[38;5;28mself\u001b[39m\u001b[38;5;241m.\u001b[39m_fetch_dataset(pid, version)\n\u001b[0;32m--> 310\u001b[0m dataset\u001b[38;5;241m.\u001b[39mp_id \u001b[38;5;241m=\u001b[39m \u001b[43mremote_ds\u001b[49m\u001b[38;5;241;43m.\u001b[39;49m\u001b[43mdata\u001b[49m\u001b[38;5;241m.\u001b[39mlatestVersion\u001b[38;5;241m.\u001b[39mdatasetPersistentId  \u001b[38;5;66;03m# type: ignore\u001b[39;00m\n\u001b[1;32m    311\u001b[0m blocks \u001b[38;5;241m=\u001b[39m remote_ds\u001b[38;5;241m.\u001b[39mdata\u001b[38;5;241m.\u001b[39mlatestVersion\u001b[38;5;241m.\u001b[39mmetadataBlocks  \u001b[38;5;66;03m# type: ignore\u001b[39;00m\n\u001b[1;32m    312\u001b[0m files \u001b[38;5;241m=\u001b[39m remote_ds\u001b[38;5;241m.\u001b[39mdata\u001b[38;5;241m.\u001b[39mlatestVersion\u001b[38;5;241m.\u001b[39mfiles  \u001b[38;5;66;03m# type: ignore\u001b[39;00m\n",
      "File \u001b[0;32m~/miniconda3/envs/darus/lib/python3.12/site-packages/dotted_dict/__init__.py:37\u001b[0m, in \u001b[0;36mDottedDict.__getattr__\u001b[0;34m(self, attr)\u001b[0m\n\u001b[1;32m     35\u001b[0m \u001b[38;5;66;03m# Do this to match python default behavior\u001b[39;00m\n\u001b[1;32m     36\u001b[0m \u001b[38;5;28;01mexcept\u001b[39;00m \u001b[38;5;167;01mKeyError\u001b[39;00m:\n\u001b[0;32m---> 37\u001b[0m     \u001b[38;5;28;01mraise\u001b[39;00m \u001b[38;5;167;01mAttributeError\u001b[39;00m(attr)\n",
      "\u001b[0;31mAttributeError\u001b[0m: data"
     ]
    }
   ],
   "source": [
    "uploader = DaRUS_upload()\n",
    "uploader.DaRUS( dataverse_list = [\"playground\"])#\"sfb1333-hansen-gross\"] )\n",
    "\n",
    "uploader.api_token_text.value = \"4afecd82-c92d-4935-b786-2225af43531e\""
   ]
  },
  {
   "cell_type": "code",
   "execution_count": 3,
   "metadata": {},
   "outputs": [],
   "source": [
    "uploader.citation.title.value = 'Test upload'\n",
    "uploader.citation.description.value  = 'The aim of this dataset is to demonstrate the upload via the FAIRDaRUS package'\n",
    "\n",
    "uploader.depositor_text.value = 'Samir Darouich'\n",
    "\n",
    "uploader.citation.authors.value      = 'Samir Darouich' \n",
    "uploader.citation.affiliations.value = 'University of Stuttgart'\n",
    "uploader.citation.contact_text.value = 'Samir Darouich, samir.darouich@itt.uni-stuttgart.de'"
   ]
  },
  {
   "cell_type": "code",
   "execution_count": 5,
   "metadata": {},
   "outputs": [],
   "source": [
    "uploader.doi_text.value = \"doi:10.18419/darus-4200\"\n",
    "uploader.file_directoy_text.value = \"download\""
   ]
  }
 ],
 "metadata": {
  "kernelspec": {
   "display_name": "fairflow",
   "language": "python",
   "name": "python3"
  },
  "language_info": {
   "codemirror_mode": {
    "name": "ipython",
    "version": 3
   },
   "file_extension": ".py",
   "mimetype": "text/x-python",
   "name": "python",
   "nbconvert_exporter": "python",
   "pygments_lexer": "ipython3",
   "version": "3.12.3"
  }
 },
 "nbformat": 4,
 "nbformat_minor": 2
}
