{
 "cells": [
  {
   "cell_type": "code",
   "execution_count": 2,
   "metadata": {},
   "outputs": [],
   "source": [
    "from FAIRDaRUS import DaRUS_upload"
   ]
  },
  {
   "cell_type": "code",
   "execution_count": 3,
   "metadata": {},
   "outputs": [
    {
     "data": {
      "application/vnd.jupyter.widget-view+json": {
       "model_id": "421090d56c864528b3f67bff70dc4bcf",
       "version_major": 2,
       "version_minor": 0
      },
      "text/plain": [
       "VBox(children=(Dropdown(description='Choose whether you want to create a new data record or edit an existing o…"
      ]
     },
     "metadata": {},
     "output_type": "display_data"
    },
    {
     "name": "stdout",
     "output_type": "stream",
     "text": [
      "\u001b[1mFetching dataset \u001b[0m\u001b[1;32m'doi:10.18419/darus-4189'\u001b[0m\u001b[1m from \u001b[0m\n",
      "\u001b[1;32m'https://darus.uni-stuttgart.de/'\u001b[0m\n",
      "\n"
     ]
    },
    {
     "ename": "AttributeError",
     "evalue": "data",
     "output_type": "error",
     "traceback": [
      "\u001b[0;31m---------------------------------------------------------------------------\u001b[0m",
      "\u001b[0;31mKeyError\u001b[0m                                  Traceback (most recent call last)",
      "File \u001b[0;32m~/miniconda3/lib/python3.11/site-packages/dotted_dict/__init__.py:34\u001b[0m, in \u001b[0;36mDottedDict.__getattr__\u001b[0;34m(self, attr)\u001b[0m\n\u001b[1;32m     33\u001b[0m \u001b[38;5;28;01mtry\u001b[39;00m:\n\u001b[0;32m---> 34\u001b[0m     \u001b[38;5;28;01mreturn\u001b[39;00m \u001b[38;5;28mself\u001b[39m\u001b[38;5;241m.\u001b[39m\u001b[38;5;18m__dict__\u001b[39m[attr]\n\u001b[1;32m     35\u001b[0m \u001b[38;5;66;03m# Do this to match python default behavior\u001b[39;00m\n",
      "\u001b[0;31mKeyError\u001b[0m: 'data'",
      "\nDuring handling of the above exception, another exception occurred:\n",
      "\u001b[0;31mAttributeError\u001b[0m                            Traceback (most recent call last)",
      "File \u001b[0;32m~/miniconda3/lib/python3.11/site-packages/FAIRDaRUS/tools/darus_upload.py:143\u001b[0m, in \u001b[0;36mDaRUS_upload.download_from_DaRUS\u001b[0;34m(self, _)\u001b[0m\n\u001b[1;32m    140\u001b[0m os\u001b[38;5;241m.\u001b[39mmakedirs( os\u001b[38;5;241m.\u001b[39mpath\u001b[38;5;241m.\u001b[39mdirname( os\u001b[38;5;241m.\u001b[39mgetcwd() \u001b[38;5;241m+\u001b[39m \u001b[38;5;124m\"\u001b[39m\u001b[38;5;124m/\u001b[39m\u001b[38;5;124m\"\u001b[39m \u001b[38;5;241m+\u001b[39m \u001b[38;5;28mself\u001b[39m\u001b[38;5;241m.\u001b[39mfile_directoy_text\u001b[38;5;241m.\u001b[39mvalue), exist_ok\u001b[38;5;241m=\u001b[39m\u001b[38;5;28;01mTrue\u001b[39;00m )\n\u001b[1;32m    142\u001b[0m \u001b[38;5;66;03m# Load existing DaRUS dataset\u001b[39;00m\n\u001b[0;32m--> 143\u001b[0m \u001b[38;5;28mself\u001b[39m\u001b[38;5;241m.\u001b[39mDaRUS_data \u001b[38;5;241m=\u001b[39m \u001b[38;5;28mself\u001b[39m\u001b[38;5;241m.\u001b[39mdataverse\u001b[38;5;241m.\u001b[39mload_dataset( \u001b[38;5;28mself\u001b[39m\u001b[38;5;241m.\u001b[39mdoi_text\u001b[38;5;241m.\u001b[39mvalue, filedir \u001b[38;5;241m=\u001b[39m \u001b[38;5;28mself\u001b[39m\u001b[38;5;241m.\u001b[39mfile_directoy_text\u001b[38;5;241m.\u001b[39mvalue )\n\u001b[1;32m    145\u001b[0m \u001b[38;5;66;03m# Initialize \u001b[39;00m\n\u001b[1;32m    146\u001b[0m \u001b[38;5;28mself\u001b[39m\u001b[38;5;241m.\u001b[39mfile_directoy\u001b[38;5;241m.\u001b[39mvalue \u001b[38;5;241m=\u001b[39m [ file\u001b[38;5;241m.\u001b[39mfilepath \u001b[38;5;28;01mfor\u001b[39;00m file \u001b[38;5;129;01min\u001b[39;00m \u001b[38;5;28mself\u001b[39m\u001b[38;5;241m.\u001b[39mDaRUS_data\u001b[38;5;241m.\u001b[39mfiles]\n",
      "File \u001b[0;32m~/miniconda3/lib/python3.11/site-packages/easyDataverse/dataverse.py:305\u001b[0m, in \u001b[0;36mDataverse.load_dataset\u001b[0;34m(self, pid, version, filedir, filenames, download_files, n_parallel_downloads)\u001b[0m\n\u001b[1;32m    303\u001b[0m \u001b[38;5;66;03m# Fetch and extract data\u001b[39;00m\n\u001b[1;32m    304\u001b[0m remote_ds \u001b[38;5;241m=\u001b[39m \u001b[38;5;28mself\u001b[39m\u001b[38;5;241m.\u001b[39m_fetch_dataset(pid, version)\n\u001b[0;32m--> 305\u001b[0m dataset\u001b[38;5;241m.\u001b[39mp_id \u001b[38;5;241m=\u001b[39m remote_ds\u001b[38;5;241m.\u001b[39mdata\u001b[38;5;241m.\u001b[39mlatestVersion\u001b[38;5;241m.\u001b[39mdatasetPersistentId  \u001b[38;5;66;03m# type: ignore\u001b[39;00m\n\u001b[1;32m    306\u001b[0m blocks \u001b[38;5;241m=\u001b[39m remote_ds\u001b[38;5;241m.\u001b[39mdata\u001b[38;5;241m.\u001b[39mlatestVersion\u001b[38;5;241m.\u001b[39mmetadataBlocks  \u001b[38;5;66;03m# type: ignore\u001b[39;00m\n\u001b[1;32m    307\u001b[0m files \u001b[38;5;241m=\u001b[39m remote_ds\u001b[38;5;241m.\u001b[39mdata\u001b[38;5;241m.\u001b[39mlatestVersion\u001b[38;5;241m.\u001b[39mfiles  \u001b[38;5;66;03m# type: ignore\u001b[39;00m\n",
      "File \u001b[0;32m~/miniconda3/lib/python3.11/site-packages/dotted_dict/__init__.py:37\u001b[0m, in \u001b[0;36mDottedDict.__getattr__\u001b[0;34m(self, attr)\u001b[0m\n\u001b[1;32m     35\u001b[0m \u001b[38;5;66;03m# Do this to match python default behavior\u001b[39;00m\n\u001b[1;32m     36\u001b[0m \u001b[38;5;28;01mexcept\u001b[39;00m \u001b[38;5;167;01mKeyError\u001b[39;00m:\n\u001b[0;32m---> 37\u001b[0m     \u001b[38;5;28;01mraise\u001b[39;00m \u001b[38;5;167;01mAttributeError\u001b[39;00m(attr)\n",
      "\u001b[0;31mAttributeError\u001b[0m: data"
     ]
    }
   ],
   "source": [
    "uploader = DaRUS_upload()\n",
    "uploader.DaRUS( dataverse_list = [\"sfb1333-hansen-gross\"] )\n",
    "\n",
    "uploader.api_token_text.value = \"4afecd82-c92d-4935-b786-2225af43531e\""
   ]
  },
  {
   "cell_type": "code",
   "execution_count": 10,
   "metadata": {},
   "outputs": [],
   "source": [
    "uploader.citation.title.value = 'Test upload'\n",
    "uploader.citation.description.value  = 'The aim of this dataset is to demonstrate the upload via the FAIRDaRUS package'\n",
    "uploader.citation.project.value      = 'Test'\n",
    "\n",
    "uploader.depositor_text.value = 'Samir Darouich'\n",
    "\n",
    "uploader.citation.authors.value      = 'Samir Darouich' \n",
    "uploader.citation.affiliations.value = 'University of Stuttgart'\n",
    "uploader.citation.identifier.value   = 'xxx-xxx-xxx-xxx'\n",
    "uploader.citation.contact_text.value = 'Samir Darouich, samir.darouich@itt.uni-stuttgart.de'\n",
    "\n",
    "uploader.citation.related_publication.value = \"test, https://id.loc.gov/authorities/subjects/sh2014001146.html\"\n",
    "\n",
    "uploader.citation.topic_classification.value = \"\"\n",
    "uploader.citation.keywords.value             = \"\"\n",
    "\n"
   ]
  },
  {
   "cell_type": "code",
   "execution_count": 7,
   "metadata": {},
   "outputs": [],
   "source": [
    "uploader.doi_text.value = \"doi:10.18419/darus-4189\"\n",
    "uploader.file_directoy_text.value = \"download\""
   ]
  }
 ],
 "metadata": {
  "kernelspec": {
   "display_name": "fairflow",
   "language": "python",
   "name": "python3"
  },
  "language_info": {
   "codemirror_mode": {
    "name": "ipython",
    "version": 3
   },
   "file_extension": ".py",
   "mimetype": "text/x-python",
   "name": "python",
   "nbconvert_exporter": "python",
   "pygments_lexer": "ipython3",
   "version": "3.11.8"
  }
 },
 "nbformat": 4,
 "nbformat_minor": 2
}
