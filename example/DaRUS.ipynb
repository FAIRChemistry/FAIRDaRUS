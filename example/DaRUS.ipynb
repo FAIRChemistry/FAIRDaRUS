{
 "cells": [
  {
   "cell_type": "code",
   "execution_count": 1,
   "metadata": {},
   "outputs": [],
   "source": [
    "from FAIRDaRUS.tools import DaRUS_upload"
   ]
  },
  {
   "cell_type": "markdown",
   "metadata": {},
   "source": [
    "## FAIRDaRUS\n",
    "\n",
    "This tool allows to up- and download datasets from DaRUS via an easy to use python widget.\n",
    "\n",
    "This is the DaRUS uploading scheme:\n",
    "<p align=\"center\">\n",
    "    <img src=\"Publication_DaRUS.png\" alt=\"Publication\" width=\"600\"/>\n",
    "</p>"
   ]
  },
  {
   "cell_type": "code",
   "execution_count": null,
   "metadata": {},
   "outputs": [
    {
     "data": {
      "application/vnd.jupyter.widget-view+json": {
       "model_id": "c87f54b4b0b34f32bce4d3db65debeda",
       "version_major": 2,
       "version_minor": 0
      },
      "text/plain": [
       "VBox(children=(Dropdown(description='Choose whether you want to create a new data record or edit an existing o…"
      ]
     },
     "metadata": {},
     "output_type": "display_data"
    },
    {
     "name": "stdout",
     "output_type": "stream",
     "text": [
      "Dataset with pid 'doi:10.18419/darus-4201' created.\n",
      "\n",
      "\n",
      "╭────────────── \u001b[1mDVUploader\u001b[0m ───────────────╮\n",
      "│ Server: \u001b[1mhttps://darus.uni-stuttgart.de/\u001b[0m │\n",
      "│ PID: \u001b[1mdoi:10.18419/darus-4201\u001b[0m            │\n",
      "│ Files: 52                               │\n",
      "╰─────────────────────────────────────────╯\n",
      "\n",
      "\n",
      "\u001b[?25l                    \u001b[90m━━━━━━━━━━━━━━━━━━━━━━━━━━━━━━━━━━━━━━━━\u001b[0m \u001b[35m  0%\u001b[0m \u001b[36m-:--:--\u001b[0m\n",
      "\u001b[2K\u001b[1A\u001b[2K                    \u001b[91m━━━━━━━━━━━━━━━━━━━━━\u001b[0m\u001b[91m╸\u001b[0m\u001b[90m━━━━━━━━━━━━━━━━━━\u001b[0m \u001b[35m 54%\u001b[0m \u001b[36m0:00:01\u001b[0m\n",
      "\u001b[2K\u001b[1A\u001b[2K                    \u001b[90m━━━━━━━━━━━━━━━━━━━━━━━━━━━━━━━━━━━━━━━━\u001b[0m \u001b[35m100%\u001b[0m \u001b[36m0:00:00\u001b[0m\n",
      "\u001b[1;3;37m📦 Preparing upload\u001b[0m                                                      \n",
      "\u001b[?25h\n",
      "\n",
      "\u001b[3m   \u001b[0m\u001b[1;3;37m🔎 Checking\u001b[0m\u001b[3m   \u001b[0m\n",
      "\u001b[3m  \u001b[0m\u001b[1;3;37mdataset files\u001b[0m\u001b[3m  \u001b[0m\n",
      "┏━━━━━┳━━━━━━━━━┓\n",
      "┃\u001b[1m \u001b[0m\u001b[1mNew\u001b[0m\u001b[1m \u001b[0m┃\u001b[1m \u001b[0m\u001b[1mSkipped\u001b[0m\u001b[1m \u001b[0m┃\n",
      "┡━━━━━╇━━━━━━━━━┩\n",
      "│\u001b[92m \u001b[0m\u001b[92m52 \u001b[0m\u001b[92m \u001b[0m│\u001b[90m \u001b[0m\u001b[90m0      \u001b[0m\u001b[90m \u001b[0m│\n",
      "└─────┴─────────┘\n",
      "\n",
      "\u001b[1;3;37m⚠️  Direct upload not supported. Falling back to Native API.\u001b[0m\n",
      "\n",
      "\u001b[1;3;37m🚀 Uploading files\u001b[0m\n",
      "\n",
      "\u001b[?25l├── environment_thermoml.yml                            \u001b[90m━━━━━━━━━━━\u001b[0m \u001b[35m  0%\u001b[0m \u001b[36m-:--:--\u001b[0m\n",
      "├── tip4p2005.gro                                       \u001b[90m━━━━━━━━━━━\u001b[0m \u001b[35m  0%\u001b[0m \u001b[36m-:--:--\u001b[0m\n",
      "├── pore_amorph.yml                                     \u001b[90m━━━━━━━━━━━\u001b[0m \u001b[35m  0%\u001b[0m \u001b[36m-:--:--\u001b[0m\n",
      "├── pore_ideal.yml                                      \u001b[90m━━━━━━━━━━━\u001b[0m \u001b[35m  0%\u001b[0m \u001b[36m-:--:--\u001b[0m\n",
      "├── environment.yml                                     \u001b[90m━━━━━━━━━━━\u001b[0m \u001b[35m  0%\u001b[0m \u001b[36m-:--:--\u001b[0m\n",
      "├── pure_min.mdp                                        \u001b[90m━━━━━━━━━━━\u001b[0m \u001b[35m  0%\u001b[0m \u001b[36m-:--:--\u001b[0m\n",
      "├── 1-butanol.gro                                       \u001b[90m━━━━━━━━━━━\u001b[0m \u001b[35m  0%\u001b[0m \u001b[36m-:--:--\u001b[0m\n",
      "├── tms.gro                                             \u001b[90m━━━━━━━━━━━\u001b[0m \u001b[35m  0%\u001b[0m \u001b[36m-:--:--\u001b[0m\n",
      "├── pore_min.mdp                                        \u001b[90m━━━━━━━━━━━\u001b[0m \u001b[35m  0%\u001b[0m \u001b[36m-:--:--\u001b[0m\n",
      "├── pore_ideal_water.top                                \u001b[90m━━━━━━━━━━━\u001b[0m \u001b[35m  0%\u001b[0m \u001b[36m-:--:--\u001b[0m\n",
      "├── pore_ideal_1-butanol.top                            \u001b[90m━━━━━━━━━━━\u001b[0m \u001b[35m  0%\u001b[0m \u001b[36m-:--:--\u001b[0m\n",
      "├── pure_run_nvt.mdp                                    \u001b[90m━━━━━━━━━━━\u001b[0m \u001b[35m  0%\u001b[0m \u001b[36m-:--:--\u001b[0m\n",
      "├── pure_nvt.mdp                                        \u001b[90m━━━━━━━━━━━\u001b[0m \u001b[35m  0%\u001b[0m \u001b[36m-:--:--\u001b[0m\n",
      "├── pure_npt.mdp                                        \u001b[90m━━━━━━━━━━━\u001b[0m \u001b[35m  0%\u001b[0m \u001b[36m-:--:--\u001b[0m\n",
      "├── pure_run_npt.mdp                                    \u001b[90m━━━━━━━━━━━\u001b[0m \u001b[35m  0%\u001b[0m \u001b[36m-:--:--\u001b[0m\n",
      "├── grid.itp                                            \u001b[90m━━━━━━━━━━━\u001b[0m \u001b[35m  0%\u001b[0m \u001b[36m-:--:--\u001b[0m\n",
      "├── pore_run.mdp                                        \u001b[90m━━━━━━━━━━━\u001b[0m \u001b[35m  0%\u001b[0m \u001b[36m-:--:--\u001b[0m\n",
      "├── pore_nvt.mdp                                        \u001b[90m━━━━━━━━━━━\u001b[0m \u001b[35m  0%\u001b[0m \u001b[36m-:--:--\u001b[0m\n",
      "├── tip4p2005.top                                       \u001b[90m━━━━━━━━━━━\u001b[0m \u001b[35m  0%\u001b[0m \u001b[36m-:--:--\u001b[0m\n",
      "├── open_thermoml.ipynb                                 \u001b[90m━━━━━━━━━━━\u001b[0m \u001b[35m  0%\u001b[0m \u001b[36m-:--:--\u001b[0m\n",
      "├── tms.top                                             \u001b[90m━━━━━━━━━━━\u001b[0m \u001b[35m  0%\u001b[0m \u001b[36m-:--:--\u001b[0m\n",
      "├── tmsg.itp                                            \u001b[90m━━━━━━━━━━━\u001b[0m \u001b[35m  0%\u001b[0m \u001b[36m-:--:--\u001b[0m\n",
      "├── 1-butanol.top                                       \u001b[90m━━━━━━━━━━━\u001b[0m \u001b[35m  0%\u001b[0m \u001b[36m-:--:--\u001b[0m\n",
      "├── exp_data_diffusion.yml                              \u001b[90m━━━━━━━━━━━\u001b[0m \u001b[35m  0%\u001b[0m \u001b[36m-:--:--\u001b[0m\n",
      "\u001b[2Kpackage_0.zip \u001b[90m━━━━━━━━━━━━━━━━━━━━━━━━━━━━━━━━━━━━━━━━\u001b[0m \u001b[35m100%\u001b[0m \u001b[36m0:00:00\u001b[0m2K\u001b[1A\u001b[2K\u001b[1A\u001b[2K\u001b[1A\u001b[2K\u001b[1A\u001b[2K\u001b[1A\u001b[2K\u001b[1A\u001b[2K\u001b[1A\u001b[2K\u001b[1A\u001b[2K\u001b[1A\u001b[2K\u001b[1A\u001b[2K\u001b[1A\u001b[2K\u001b[1A\u001b[2K\n",
      "\u001b[?25h\n",
      "\u001b[1;3;37m✅ Upload complete\u001b[0m\n",
      "\n"
     ]
    }
   ],
   "source": [
    "uploader = DaRUS_upload()\n",
    "uploader.DaRUS( dataverse_list = [\"playground\"]) # \"sfb1333-hansen-gross\"] )\n",
    "\n",
    "uploader.api_token_text.value = \"4afecd82-c92d-4935-b786-2225af43531e\""
   ]
  },
  {
   "cell_type": "code",
   "execution_count": 3,
   "metadata": {},
   "outputs": [],
   "source": [
    "uploader.citation.title.value = 'Test upload'\n",
    "uploader.citation.description.value  = 'The aim of this dataset is to demonstrate the upload via the FAIRDaRUS package'\n",
    "\n",
    "uploader.depositor_text.value = 'Samir Darouich'\n",
    "\n",
    "uploader.citation.authors.value      = 'Samir Darouich' \n",
    "uploader.citation.affiliations.value = 'University of Stuttgart'\n",
    "uploader.citation.contact_text.value = 'Samir Darouich, samir.darouich@itt.uni-stuttgart.de'"
   ]
  },
  {
   "cell_type": "code",
   "execution_count": 5,
   "metadata": {},
   "outputs": [],
   "source": [
    "uploader.doi_text.value = \"doi:10.18419/darus-4200\"\n",
    "uploader.file_directoy_text.value = \"download\""
   ]
  }
 ],
 "metadata": {
  "kernelspec": {
   "display_name": "fairflow",
   "language": "python",
   "name": "python3"
  },
  "language_info": {
   "codemirror_mode": {
    "name": "ipython",
    "version": 3
   },
   "file_extension": ".py",
   "mimetype": "text/x-python",
   "name": "python",
   "nbconvert_exporter": "python",
   "pygments_lexer": "ipython3",
   "version": "3.12.3"
  }
 },
 "nbformat": 4,
 "nbformat_minor": 2
}
